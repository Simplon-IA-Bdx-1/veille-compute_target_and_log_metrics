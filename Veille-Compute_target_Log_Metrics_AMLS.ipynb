{
 "cells": [
  {
   "cell_type": "markdown",
   "metadata": {
    "slideshow": {
     "slide_type": "slide"
    }
   },
   "source": [
    "# Exécution d’un script d’entraînement sur une compute target (VM basique) avec logging des métriques de performances dans Azure Machine Learning Services (AMLS)"
   ]
  },
  {
   "cell_type": "markdown",
   "metadata": {
    "slideshow": {
     "slide_type": "slide"
    }
   },
   "source": [
    "## Creation du Workspace"
   ]
  },
  {
   "cell_type": "code",
   "execution_count": 1,
   "metadata": {
    "slideshow": {
     "slide_type": "subslide"
    }
   },
   "outputs": [],
   "source": [
    "import azureml.core\n",
    "from azureml.core import Workspace, Environment\n",
    "from azureml.core.compute import ComputeTarget, AmlCompute\n",
    "import os"
   ]
  },
  {
   "cell_type": "code",
   "execution_count": 2,
   "metadata": {
    "slideshow": {
     "slide_type": "subslide"
    }
   },
   "outputs": [
    {
     "data": {
      "text/plain": [
       "True"
      ]
     },
     "execution_count": 2,
     "metadata": {},
     "output_type": "execute_result"
    }
   ],
   "source": [
    "from dotenv import load_dotenv\n",
    "from pathlib import Path  # python3 only\n",
    "load_dotenv()\n",
    "env_path = Path('.') / 'auth.env'\n",
    "load_dotenv(dotenv_path=env_path)"
   ]
  },
  {
   "cell_type": "code",
   "execution_count": 3,
   "metadata": {
    "slideshow": {
     "slide_type": "subslide"
    }
   },
   "outputs": [],
   "source": [
    "SUBSCRIPTION_ID = os.getenv('SUBSCRIPTION_ID')\n",
    "RESOURCE_GROUP = os.getenv('RESOURCE_GROUP')"
   ]
  },
  {
   "cell_type": "code",
   "execution_count": 4,
   "metadata": {
    "slideshow": {
     "slide_type": "subslide"
    }
   },
   "outputs": [
    {
     "name": "stdout",
     "output_type": "stream",
     "text": [
      "Azure ML SDK Version:  1.0.85\n"
     ]
    }
   ],
   "source": [
    "# check core SDK version number\n",
    "print(\"Azure ML SDK Version: \", azureml.core.VERSION)"
   ]
  },
  {
   "cell_type": "code",
   "execution_count": 5,
   "metadata": {
    "slideshow": {
     "slide_type": "subslide"
    }
   },
   "outputs": [
    {
     "name": "stdout",
     "output_type": "stream",
     "text": [
      "{}\n"
     ]
    }
   ],
   "source": [
    "# Load the workspace from the saved config file\n",
    "print(Workspace.list(subscription_id=SUBSCRIPTION_ID, resource_group=RESOURCE_GROUP))"
   ]
  },
  {
   "cell_type": "code",
   "execution_count": 6,
   "metadata": {
    "slideshow": {
     "slide_type": "subslide"
    }
   },
   "outputs": [
    {
     "name": "stdout",
     "output_type": "stream",
     "text": [
      "Deploying StorageAccount with name veillewostorage43bd69280.\n",
      "Deploying AppInsights with name veillewoinsights49a5b94f.\n",
      "Deployed AppInsights with name veillewoinsights49a5b94f. Took 6.58 seconds.\n",
      "Deploying KeyVault with name veillewokeyvault1c784130.\n",
      "Deployed KeyVault with name veillewokeyvault1c784130. Took 21.35 seconds.\n",
      "Deployed StorageAccount with name veillewostorage43bd69280. Took 24.49 seconds.\n",
      "Deploying Workspace with name veille_workspace.\n",
      "Deployed Workspace with name veille_workspace. Took 20.4 seconds.\n"
     ]
    }
   ],
   "source": [
    "ws = Workspace.create(name='veille_workspace',\n",
    "               subscription_id=SUBSCRIPTION_ID,\n",
    "               resource_group=RESOURCE_GROUP,\n",
    "               create_resource_group=False,\n",
    "               location='westeurope'\n",
    "               )\n",
    "# ws = Workspace.from_config()"
   ]
  },
  {
   "cell_type": "markdown",
   "metadata": {
    "slideshow": {
     "slide_type": "slide"
    }
   },
   "source": [
    "## Choose an Environment (for information)"
   ]
  },
  {
   "cell_type": "code",
   "execution_count": 20,
   "metadata": {
    "slideshow": {
     "slide_type": "subslide"
    }
   },
   "outputs": [],
   "source": [
    "env = Environment.get(workspace=ws, name=\"AzureML-Minimal\")"
   ]
  },
  {
   "cell_type": "code",
   "execution_count": 21,
   "metadata": {
    "scrolled": true,
    "slideshow": {
     "slide_type": "subslide"
    }
   },
   "outputs": [
    {
     "name": "stdout",
     "output_type": "stream",
     "text": [
      "Name AzureML-Tutorial\n",
      "packages channels:\n",
      "- anaconda\n",
      "- conda-forge\n",
      "dependencies:\n",
      "- python=3.6.2\n",
      "- pip:\n",
      "  - azureml-core==1.2.0\n",
      "  - azureml-defaults==1.2.0\n",
      "  - azureml-telemetry==1.2.0\n",
      "  - azureml-train-restclients-hyperdrive==1.2.0\n",
      "  - azureml-train-core==1.2.0\n",
      "  - azureml-widgets==1.2.0\n",
      "  - azureml-pipeline-core==1.2.0\n",
      "  - azureml-pipeline-steps==1.2.0\n",
      "  - azureml-opendatasets==1.2.0\n",
      "  - azureml-automl-core==1.2.0\n",
      "  - azureml-automl-runtime==1.2.0\n",
      "  - azureml-train-automl-client==1.2.0\n",
      "  - azureml-train-automl-runtime==1.2.0\n",
      "  - azureml-train-automl==1.2.0\n",
      "  - azureml-train==1.2.0\n",
      "  - azureml-sdk==1.2.0\n",
      "  - azureml-interpret==1.2.0\n",
      "  - azureml-tensorboard==1.2.0\n",
      "  - azureml-mlflow==1.2.0\n",
      "  - mlflow\n",
      "  - sklearn-pandas\n",
      "- pandas\n",
      "- numpy\n",
      "- tqdm\n",
      "- scikit-learn\n",
      "- matplotlib\n",
      "name: azureml_2044e6d12036fa0f0c4d02b0ee45feb5\n",
      "\n",
      "Name AzureML-Minimal\n",
      "packages channels:\n",
      "- conda-forge\n",
      "dependencies:\n",
      "- python=3.6.2\n",
      "- pip:\n",
      "  - azureml-core==1.2.0\n",
      "  - azureml-defaults==1.2.0\n",
      "name: azureml_8efa3cc24935ba94dbcb6264067b6853\n",
      "\n",
      "Name AzureML-Chainer-5.1.0-GPU\n",
      "packages channels:\n",
      "- conda-forge\n",
      "dependencies:\n",
      "- python=3.6.2\n",
      "- pip:\n",
      "  - azureml-core==1.2.0\n",
      "  - azureml-defaults==1.2.0\n",
      "  - azureml-telemetry==1.2.0\n",
      "  - azureml-train-restclients-hyperdrive==1.2.0\n",
      "  - azureml-train-core==1.2.0\n",
      "  - chainer==5.1.0\n",
      "  - cupy-cuda90==5.1.0\n",
      "  - mpi4py==3.0.0\n",
      "name: azureml_43ae3494b9b7666919116b4a25139bcf\n",
      "\n",
      "Name AzureML-PyTorch-1.2-CPU\n",
      "packages channels:\n",
      "- conda-forge\n",
      "dependencies:\n",
      "- python=3.6.2\n",
      "- pip:\n",
      "  - azureml-core==1.2.0\n",
      "  - azureml-defaults==1.2.0\n",
      "  - azureml-telemetry==1.2.0\n",
      "  - azureml-train-restclients-hyperdrive==1.2.0\n",
      "  - azureml-train-core==1.2.0\n",
      "  - torch==1.2\n",
      "  - torchvision==0.4.0\n",
      "  - mkl==2018.0.3\n",
      "  - horovod==0.16.1\n",
      "  - tensorboard==1.14.0\n",
      "  - future==0.17.1\n",
      "name: azureml_ce471349b8d451eca76467d6d827383f\n",
      "\n",
      "Name AzureML-TensorFlow-1.12-CPU\n",
      "packages channels:\n",
      "- conda-forge\n",
      "dependencies:\n",
      "- python=3.6.2\n",
      "- pip:\n",
      "  - azureml-core==1.2.0\n",
      "  - azureml-defaults==1.2.0\n",
      "  - azureml-telemetry==1.2.0\n",
      "  - azureml-train-restclients-hyperdrive==1.2.0\n",
      "  - azureml-train-core==1.2.0\n",
      "  - tensorflow==1.12\n",
      "  - horovod==0.15.2\n",
      "name: azureml_6a02c1c0ff1bf03bc560c92403e84c7e\n",
      "\n",
      "Name AzureML-TensorFlow-1.13-CPU\n",
      "packages channels:\n",
      "- conda-forge\n",
      "dependencies:\n",
      "- python=3.6.2\n",
      "- pip:\n",
      "  - azureml-core==1.2.0\n",
      "  - azureml-defaults==1.2.0\n",
      "  - azureml-telemetry==1.2.0\n",
      "  - azureml-train-restclients-hyperdrive==1.2.0\n",
      "  - azureml-train-core==1.2.0\n",
      "  - tensorflow==1.13.1\n",
      "  - horovod==0.16.1\n",
      "name: azureml_1cd06fe8741bf7ff004cc66b71cae4aa\n",
      "\n",
      "Name AzureML-PyTorch-1.1-CPU\n",
      "packages channels:\n",
      "- conda-forge\n",
      "dependencies:\n",
      "- python=3.6.2\n",
      "- pip:\n",
      "  - azureml-core==1.2.0\n",
      "  - azureml-defaults==1.2.0\n",
      "  - azureml-telemetry==1.2.0\n",
      "  - azureml-train-restclients-hyperdrive==1.2.0\n",
      "  - azureml-train-core==1.2.0\n",
      "  - torch==1.1\n",
      "  - torchvision==0.2.1\n",
      "  - mkl==2018.0.3\n",
      "  - horovod==0.16.1\n",
      "  - tensorboard==1.14.0\n",
      "  - future==0.17.1\n",
      "name: azureml_b8a500844dd64c5b1cdc5597388559b1\n",
      "\n",
      "Name AzureML-TensorFlow-1.10-CPU\n",
      "packages channels:\n",
      "- conda-forge\n",
      "dependencies:\n",
      "- python=3.6.2\n",
      "- pip:\n",
      "  - azureml-core==1.2.0\n",
      "  - azureml-defaults==1.2.0\n",
      "  - azureml-telemetry==1.2.0\n",
      "  - azureml-train-restclients-hyperdrive==1.2.0\n",
      "  - azureml-train-core==1.2.0\n",
      "  - tensorflow==1.10\n",
      "  - horovod==0.15.2\n",
      "name: azureml_368663fda608c50111e33df89534dcd1\n",
      "\n",
      "Name AzureML-PyTorch-1.0-GPU\n",
      "packages channels:\n",
      "- conda-forge\n",
      "dependencies:\n",
      "- python=3.6.2\n",
      "- pip:\n",
      "  - azureml-core==1.2.0\n",
      "  - azureml-defaults==1.2.0\n",
      "  - azureml-telemetry==1.2.0\n",
      "  - azureml-train-restclients-hyperdrive==1.2.0\n",
      "  - azureml-train-core==1.2.0\n",
      "  - torch==1.0\n",
      "  - torchvision==0.2.1\n",
      "  - mkl==2018.0.3\n",
      "  - horovod==0.16.1\n",
      "name: azureml_a3258de3fb6eb38e5bebaeaf05a11ffb\n",
      "\n",
      "Name AzureML-TensorFlow-1.12-GPU\n",
      "packages channels:\n",
      "- conda-forge\n",
      "dependencies:\n",
      "- python=3.6.2\n",
      "- pip:\n",
      "  - azureml-core==1.2.0\n",
      "  - azureml-defaults==1.2.0\n",
      "  - azureml-telemetry==1.2.0\n",
      "  - azureml-train-restclients-hyperdrive==1.2.0\n",
      "  - azureml-train-core==1.2.0\n",
      "  - tensorflow-gpu==1.12.0\n",
      "  - horovod==0.15.2\n",
      "name: azureml_c8c6220e37df64171f306caf5fb06b37\n",
      "\n",
      "Name AzureML-TensorFlow-1.13-GPU\n",
      "packages channels:\n",
      "- conda-forge\n",
      "dependencies:\n",
      "- python=3.6.2\n",
      "- pip:\n",
      "  - azureml-core==1.2.0\n",
      "  - azureml-defaults==1.2.0\n",
      "  - azureml-telemetry==1.2.0\n",
      "  - azureml-train-restclients-hyperdrive==1.2.0\n",
      "  - azureml-train-core==1.2.0\n",
      "  - tensorflow-gpu==1.13.1\n",
      "  - horovod==0.16.1\n",
      "name: azureml_a47109b33cbd3f087e04fc24f444cff2\n",
      "\n",
      "Name AzureML-Chainer-5.1.0-CPU\n",
      "packages channels:\n",
      "- conda-forge\n",
      "dependencies:\n",
      "- python=3.6.2\n",
      "- pip:\n",
      "  - azureml-core==1.2.0\n",
      "  - azureml-defaults==1.2.0\n",
      "  - azureml-telemetry==1.2.0\n",
      "  - azureml-train-restclients-hyperdrive==1.2.0\n",
      "  - azureml-train-core==1.2.0\n",
      "  - chainer==5.1.0\n",
      "  - mpi4py==3.0.0\n",
      "name: azureml_f705e5fad4e4004a36d14046580a138d\n",
      "\n",
      "Name AzureML-PyTorch-1.0-CPU\n",
      "packages channels:\n",
      "- conda-forge\n",
      "dependencies:\n",
      "- python=3.6.2\n",
      "- pip:\n",
      "  - azureml-core==1.2.0\n",
      "  - azureml-defaults==1.2.0\n",
      "  - azureml-telemetry==1.2.0\n",
      "  - azureml-train-restclients-hyperdrive==1.2.0\n",
      "  - azureml-train-core==1.2.0\n",
      "  - torch==1.0\n",
      "  - torchvision==0.2.1\n",
      "  - mkl==2018.0.3\n",
      "  - horovod==0.16.1\n",
      "name: azureml_a3258de3fb6eb38e5bebaeaf05a11ffb\n",
      "\n",
      "Name AzureML-Scikit-learn-0.20.3\n",
      "packages channels:\n",
      "- conda-forge\n",
      "dependencies:\n",
      "- python=3.6.2\n",
      "- pip:\n",
      "  - azureml-core==1.2.0\n",
      "  - azureml-defaults==1.2.0\n",
      "  - azureml-telemetry==1.2.0\n",
      "  - azureml-train-restclients-hyperdrive==1.2.0\n",
      "  - azureml-train-core==1.2.0\n",
      "  - scikit-learn==0.20.3\n",
      "  - scipy==1.2.1\n",
      "  - numpy==1.16.2\n",
      "  - joblib==0.13.2\n",
      "name: azureml_42144f34f392b3f3fb21ccabe1ffe70a\n",
      "\n",
      "Name AzureML-PyTorch-1.2-GPU\n",
      "packages channels:\n",
      "- conda-forge\n",
      "dependencies:\n",
      "- python=3.6.2\n",
      "- pip:\n",
      "  - azureml-core==1.2.0\n",
      "  - azureml-defaults==1.2.0\n",
      "  - azureml-telemetry==1.2.0\n",
      "  - azureml-train-restclients-hyperdrive==1.2.0\n",
      "  - azureml-train-core==1.2.0\n",
      "  - torch==1.2\n",
      "  - torchvision==0.4.0\n",
      "  - mkl==2018.0.3\n",
      "  - horovod==0.16.1\n",
      "  - tensorboard==1.14.0\n",
      "  - future==0.17.1\n",
      "name: azureml_ce471349b8d451eca76467d6d827383f\n",
      "\n",
      "Name AzureML-PyTorch-1.1-GPU\n",
      "packages channels:\n",
      "- conda-forge\n",
      "dependencies:\n",
      "- python=3.6.2\n",
      "- pip:\n",
      "  - azureml-core==1.2.0\n",
      "  - azureml-defaults==1.2.0\n",
      "  - azureml-telemetry==1.2.0\n",
      "  - azureml-train-restclients-hyperdrive==1.2.0\n",
      "  - azureml-train-core==1.2.0\n",
      "  - torch==1.1\n",
      "  - torchvision==0.2.1\n",
      "  - mkl==2018.0.3\n",
      "  - horovod==0.16.1\n",
      "  - tensorboard==1.14.0\n",
      "  - future==0.17.1\n",
      "name: azureml_b8a500844dd64c5b1cdc5597388559b1\n",
      "\n",
      "Name AzureML-TensorFlow-1.10-GPU\n",
      "packages channels:\n",
      "- conda-forge\n",
      "dependencies:\n",
      "- python=3.6.2\n",
      "- pip:\n",
      "  - azureml-core==1.2.0\n",
      "  - azureml-defaults==1.2.0\n",
      "  - azureml-telemetry==1.2.0\n",
      "  - azureml-train-restclients-hyperdrive==1.2.0\n",
      "  - azureml-train-core==1.2.0\n",
      "  - tensorflow-gpu==1.10.0\n",
      "  - horovod==0.15.2\n",
      "name: azureml_a722c939932df61b9b074be042e30796\n",
      "\n",
      "Name AzureML-PyTorch-1.3-GPU\n",
      "packages channels:\n",
      "- conda-forge\n",
      "dependencies:\n",
      "- python=3.6.2\n",
      "- pip:\n",
      "  - azureml-core==1.2.0\n",
      "  - azureml-defaults==1.2.0\n",
      "  - azureml-telemetry==1.2.0\n",
      "  - azureml-train-restclients-hyperdrive==1.2.0\n",
      "  - azureml-train-core==1.2.0\n",
      "  - torch==1.3\n",
      "  - torchvision==0.4.1\n",
      "  - mkl==2018.0.3\n",
      "  - horovod==0.18.1\n",
      "  - tensorboard==1.14.0\n",
      "  - future==0.17.1\n",
      "name: azureml_17836339a4829aa495f0644c07d2eb03\n",
      "\n",
      "Name AzureML-TensorFlow-2.0-CPU\n",
      "packages channels:\n",
      "- conda-forge\n",
      "dependencies:\n",
      "- python=3.6.2\n",
      "- pip:\n",
      "  - azureml-core==1.2.0\n",
      "  - azureml-defaults==1.2.0\n",
      "  - azureml-telemetry==1.2.0\n",
      "  - azureml-train-restclients-hyperdrive==1.2.0\n",
      "  - azureml-train-core==1.2.0\n",
      "  - tensorflow==2.0\n",
      "  - horovod==0.18.1\n",
      "name: azureml_a685c8fa2729bbbf4932e75b8eb0df54\n",
      "\n",
      "Name AzureML-PyTorch-1.3-CPU\n",
      "packages channels:\n",
      "- conda-forge\n",
      "dependencies:\n",
      "- python=3.6.2\n",
      "- pip:\n",
      "  - azureml-core==1.1.5.5\n",
      "  - azureml-defaults==1.1.5.1\n",
      "  - azureml-telemetry==1.1.5.3\n",
      "  - azureml-train-restclients-hyperdrive==1.1.5\n",
      "  - azureml-train-core==1.1.5\n",
      "  - torch==1.3\n",
      "  - torchvision==0.4.1\n",
      "  - mkl==2018.0.3\n",
      "  - horovod==0.18.1\n",
      "  - tensorboard==1.14.0\n",
      "  - future==0.17.1\n",
      "name: azureml_b39062660ec9ac34b1a417f2327a7a87\n",
      "\n",
      "Name AzureML-TensorFlow-2.0-GPU\n",
      "packages channels:\n",
      "- conda-forge\n",
      "dependencies:\n",
      "- python=3.6.2\n",
      "- pip:\n",
      "  - azureml-core==1.2.0\n",
      "  - azureml-defaults==1.2.0\n",
      "  - azureml-telemetry==1.2.0\n",
      "  - azureml-train-restclients-hyperdrive==1.2.0\n",
      "  - azureml-train-core==1.2.0\n",
      "  - tensorflow-gpu==2.0.0\n",
      "  - horovod==0.18.1\n",
      "name: azureml_8610bbf9342ea24c2527a60b37f4c9ed\n",
      "\n",
      "Name AzureML-PySpark-MmlSpark-0.15\n",
      "packages channels:\n",
      "- conda-forge\n",
      "dependencies:\n",
      "- python=3.6.2\n",
      "- pip:\n",
      "  - azureml-core==1.2.0\n",
      "  - azureml-defaults==1.2.0\n",
      "  - azureml-telemetry==1.2.0\n",
      "  - azureml-train-restclients-hyperdrive==1.2.0\n",
      "  - azureml-train-core==1.2.0\n",
      "name: azureml_09256fb6cdc5c0ce9cb93ce24ffea247\n",
      "\n",
      "Name AzureML-AutoML\n",
      "packages channels:\n",
      "- anaconda\n",
      "- conda-forge\n",
      "- pytorch\n",
      "dependencies:\n",
      "- python=3.6.2\n",
      "- pip:\n",
      "  - azureml-core==1.2.0\n",
      "  - azureml-pipeline-core==1.2.0\n",
      "  - azureml-telemetry==1.2.0\n",
      "  - azureml-defaults==1.2.0\n",
      "  - azureml-interpret==1.2.0\n",
      "  - azureml-explain-model==1.2.0\n",
      "  - azureml-automl-core==1.2.0\n",
      "  - azureml-automl-runtime==1.2.0\n",
      "  - azureml-train-automl-client==1.2.0\n",
      "  - azureml-train-automl-runtime==1.2.0\n",
      "  - inference-schema\n",
      "- numpy>=1.16.0,<=1.16.2\n",
      "- pandas>=0.21.0,<=0.23.4\n",
      "- py-xgboost<=0.90\n",
      "- fbprophet==0.5\n",
      "- setuptools-git\n",
      "name: azureml_e767611dc265157a2c4020ff4717f133\n",
      "\n",
      "Name AzureML-PyTorch-1.4-GPU\n",
      "packages channels:\n",
      "- conda-forge\n",
      "dependencies:\n",
      "- python=3.6.2\n",
      "- pip:\n",
      "  - azureml-core==1.2.0\n",
      "  - azureml-defaults==1.2.0\n",
      "  - azureml-telemetry==1.2.0\n",
      "  - azureml-train-restclients-hyperdrive==1.2.0\n",
      "  - azureml-train-core==1.2.0\n",
      "  - torch==1.4.0\n",
      "  - torchvision==0.5.0\n",
      "  - mkl==2018.0.3\n",
      "  - horovod==0.18.1\n",
      "  - tensorboard==1.14.0\n",
      "  - future==0.17.1\n",
      "name: azureml_89937e4c03249539eefd017f683ea3ce\n",
      "\n",
      "Name AzureML-PyTorch-1.4-CPU\n",
      "packages channels:\n",
      "- conda-forge\n",
      "dependencies:\n",
      "- python=3.6.2\n",
      "- pip:\n",
      "  - azureml-core==1.2.0\n",
      "  - azureml-defaults==1.2.0\n",
      "  - azureml-telemetry==1.2.0\n",
      "  - azureml-train-restclients-hyperdrive==1.2.0\n",
      "  - azureml-train-core==1.2.0\n",
      "  - torch==1.4.0\n",
      "  - torchvision==0.5.0\n",
      "  - mkl==2018.0.3\n",
      "  - horovod==0.18.1\n",
      "  - tensorboard==1.14.0\n",
      "  - future==0.17.1\n",
      "name: azureml_89937e4c03249539eefd017f683ea3ce\n",
      "\n",
      "Name AzureML-VowpalWabbit-8.8.0\n",
      "packages channels:\n",
      "- conda-forge\n",
      "dependencies:\n",
      "- python=3.6.2\n",
      "- pip:\n",
      "  - azureml-core==1.2.0\n",
      "  - azureml-defaults==1.2.0\n",
      "  - azureml-dataprep[fuse,pandas]\n",
      "name: azureml_eed6129d1cdd3d18a4f0f2b746ad4d83\n",
      "\n",
      "Name AzureML-Hyperdrive-ForecastDNN\n",
      "packages dependencies:\n",
      "- python=3.7\n",
      "- pip:\n",
      "  - azureml-core==1.2.0\n",
      "  - azureml-pipeline-core==1.2.0\n",
      "  - azureml-telemetry==1.2.0\n",
      "  - azureml-defaults==1.2.0\n",
      "  - azureml-automl-core==1.2.0\n",
      "  - azureml-automl-runtime==1.2.0\n",
      "  - azureml-train-automl-client==1.2.0\n",
      "  - azureml-train-automl-runtime==1.2.0\n",
      "  - azureml-contrib-automl-dnn-forecasting==1.2.0\n",
      "name: azureml_dcc7905a494bad2d124df3bbdfee9630\n",
      "\n",
      "Name AzureML-AutoML-GPU\n",
      "packages channels:\n",
      "- conda-forge\n",
      "dependencies:\n",
      "- python=3.6.2\n",
      "name: gpuexp\n",
      "\n",
      "Name AzureML-AutoML-DNN-GPU\n",
      "packages channels:\n",
      "- conda-forge\n",
      "dependencies:\n",
      "- python=3.6.2\n",
      "name: gpuexp\n",
      "\n",
      "Name AzureML-AutoML-DNN\n",
      "packages channels:\n",
      "- anaconda\n",
      "- conda-forge\n",
      "- pytorch\n",
      "dependencies:\n",
      "- python=3.6.2\n",
      "- pip:\n",
      "  - azureml-core==1.1.5.5\n",
      "  - azureml-pipeline-core==1.1.5\n",
      "  - azureml-telemetry==1.1.5.3\n",
      "  - azureml-defaults==1.1.5.1\n",
      "  - azureml-interpret==1.1.5\n",
      "  - azureml-explain-model==1.1.5\n",
      "  - azureml-automl-core==1.1.5.1\n",
      "  - azureml-automl-runtime==1.1.5.2\n",
      "  - azureml-train-automl-client==1.1.5.1\n",
      "  - azureml-train-automl-runtime==1.1.5.3\n",
      "  - inference-schema\n",
      "  - pytorch-transformers==1.0.0\n",
      "  - spacy==2.1.8\n",
      "  - https://aka.ms/automl-resources/packages/en_core_web_sm-2.1.0.tar.gz\n",
      "- pandas>=0.21.0,<=0.23.4\n",
      "- numpy>=1.16.0,<=1.16.2\n",
      "- py-xgboost<=0.90\n",
      "- fbprophet==0.5\n",
      "- setuptools-git\n",
      "- pytorch=1.1.0\n",
      "- cudatoolkit=9.0\n",
      "name: azureml_f076a60be137ddcc9a0e5c1b8eacf839\n",
      "\n",
      "Name AzureML-Designer-R\n",
      "packages channels:\n",
      "- conda-forge\n",
      "dependencies:\n",
      "- python=3.6.8\n",
      "- r-caret=6.0\n",
      "- r-catools=1.17.1\n",
      "- r-cluster=2.0.7\n",
      "- r-dplyr=0.7.6\n",
      "- r-e1071=1.7\n",
      "- r-forcats=0.3.0\n",
      "- r-glmnet=2.0\n",
      "- r-matrix=1.2\n",
      "- r-mgcv=1.8\n",
      "- r-nlme=3.1\n",
      "- r-nnet=7.3\n",
      "- r-plyr=1.8.4\n",
      "- r-randomforest=4.6\n",
      "- r-reticulate=1.12\n",
      "- r-rocr=1.0\n",
      "- r-rpart=4.1\n",
      "- r-stringr=1.3.1\n",
      "- r-tidyverse=1.2.1\n",
      "- r-timedate=3043.102\n",
      "- r-tseries=0.10\n",
      "- r=3.5.1\n",
      "- pip:\n",
      "  - azureml-dataprep[fuse]==1.3.5\n",
      "  - azureml-designer-classic-modules==0.0.117\n",
      "  - azureml-telemetry==1.0.85.2\n",
      "  - pandas==0.25.3\n",
      "name: azureml_6902ec874050351b03fdd2a3da13f6f8\n",
      "\n",
      "Name AzureML-Designer-Recommender\n",
      "packages channels:\n",
      "- conda-forge\n",
      "dependencies:\n",
      "- python=3.6.8\n",
      "- scikit-surprise=1.0.6\n",
      "- pip:\n",
      "  - azureml-dataprep[fuse]==1.3.5\n",
      "  - azureml-designer-classic-modules==0.0.117\n",
      "  - azureml-telemetry==1.0.85.2\n",
      "  - pandas==0.25.3\n",
      "name: azureml_63c41a8168dd32589d162a95ae552e1b\n",
      "\n",
      "Name AzureML-Designer-Transform\n",
      "packages channels:\n",
      "- defaults\n",
      "dependencies:\n",
      "- python=3.6.8\n",
      "- pip:\n",
      "  - azureml-dataprep[fuse]==1.3.5\n",
      "  - azureml-designer-datatransform-modules==0.0.42\n",
      "  - azureml-telemetry==1.0.85.2\n",
      "  - pandas==0.25.3\n",
      "name: azureml_72d9fc8a6bfcccd336d5014b85f1fddc\n",
      "\n",
      "Name AzureML-Designer\n",
      "packages channels:\n",
      "- defaults\n",
      "dependencies:\n",
      "- python=3.6.8\n",
      "- pip:\n",
      "  - azureml-dataprep[fuse]==1.3.5\n",
      "  - azureml-designer-classic-modules==0.0.117\n",
      "  - azureml-telemetry==1.0.85.2\n",
      "  - pandas==0.25.3\n",
      "name: azureml_dd1337159d60fadee9958ecd068175be\n",
      "\n",
      "Name AzureML-Designer-IO\n",
      "packages channels:\n",
      "- defaults\n",
      "dependencies:\n",
      "- python=3.6.8\n",
      "- pip:\n",
      "  - azureml-dataprep[fuse]==1.3.5\n",
      "  - azureml-designer-dataio-modules==0.0.22\n",
      "  - azureml-telemetry==1.0.85.2\n",
      "  - pandas==0.25.3\n",
      "name: azureml_2b4ab5bcee2abc1101c7b23f88ef7f09\n",
      "\n",
      "Name AzureML-Designer-NLP\n",
      "packages channels:\n",
      "- defaults\n",
      "dependencies:\n",
      "- python=3.6.8\n",
      "- pip:\n",
      "  - azureml-dataprep[fuse]==1.3.5\n",
      "  - azureml-designer-classic-modules==0.0.117\n",
      "  - azureml-telemetry==1.0.85.2\n",
      "  - https://github.com/explosion/spacy-models/releases/download/en_core_web_sm-2.1.0/en_core_web_sm-2.1.0.tar.gz#egg=en_core_web_sm\n",
      "  - pandas==0.25.3\n",
      "  - spacy==2.1.7\n",
      "name: azureml_4ef6c875c4c797d68a618e0fc3c90724\n",
      "\n",
      "Name AzureML-Dask-CPU\n",
      "packages channels:\n",
      "- conda-forge\n",
      "- pytorch\n",
      "- defaults\n",
      "dependencies:\n",
      "- python=3.6.9\n",
      "- pip:\n",
      "  - adlfs\n",
      "  - azureml-core==1.2.0\n",
      "  - azureml-dataprep\n",
      "  - dask[complete]\n",
      "  - dask-ml[complete]\n",
      "  - distributed\n",
      "  - fastparquet\n",
      "  - fsspec\n",
      "  - joblib\n",
      "  - jupyterlab\n",
      "  - lz4\n",
      "  - mpi4py\n",
      "  - notebook\n",
      "  - pyarrow\n",
      "name: azureml_2b468dea1df9b0ee8372630d7c2f5198\n",
      "\n",
      "Name AzureML-Dask-GPU\n",
      "packages channels:\n",
      "- conda-forge\n",
      "dependencies:\n",
      "- python=3.6.9\n",
      "- pip:\n",
      "  - azureml-defaults==1.2.0\n",
      "  - adlfs\n",
      "  - azureml-core==1.2.0\n",
      "  - azureml-dataprep\n",
      "  - dask[complete]\n",
      "  - dask-ml[complete]\n",
      "  - distributed\n",
      "  - fastparquet\n",
      "  - fsspec\n",
      "  - joblib\n",
      "  - jupyterlab\n",
      "  - lz4\n",
      "  - mpi4py\n",
      "  - notebook\n",
      "  - pyarrow\n",
      "- matplotlib\n",
      "name: azureml_5c29d3bad18302dcad862d6a6b65a9ad\n",
      "\n"
     ]
    }
   ],
   "source": [
    "envs = Environment.list(workspace=ws)\n",
    "\n",
    "for env in envs:\n",
    "    if env.startswith(\"AzureML\"):\n",
    "        print(\"Name\",env)\n",
    "        print(\"packages\", envs[env].python.conda_dependencies.serialize_to_string())"
   ]
  },
  {
   "cell_type": "markdown",
   "metadata": {
    "slideshow": {
     "slide_type": "slide"
    }
   },
   "source": [
    "## With Comput Target"
   ]
  },
  {
   "cell_type": "code",
   "execution_count": 22,
   "metadata": {
    "slideshow": {
     "slide_type": "subslide"
    }
   },
   "outputs": [],
   "source": [
    "# Specify a name for the compute (unique within the workspace)\n",
    "compute_name = 'aml-cluster'"
   ]
  },
  {
   "cell_type": "code",
   "execution_count": 23,
   "metadata": {
    "slideshow": {
     "slide_type": "subslide"
    }
   },
   "outputs": [],
   "source": [
    "# Define compute configuration\n",
    "compute_config = AmlCompute.provisioning_configuration(vm_size='STANDARD_DS12_V2',\n",
    "                                                       min_nodes=0, max_nodes=4,\n",
    "                                                       vm_priority='dedicated')"
   ]
  },
  {
   "cell_type": "code",
   "execution_count": 24,
   "metadata": {
    "slideshow": {
     "slide_type": "subslide"
    }
   },
   "outputs": [
    {
     "name": "stdout",
     "output_type": "stream",
     "text": [
      "Succeeded\n",
      "AmlCompute wait for completion finished\n",
      "\n",
      "Minimum number of nodes requested have been provisioned\n"
     ]
    }
   ],
   "source": [
    "# Create the compute\n",
    "aml_cluster = ComputeTarget.create(ws, compute_name, compute_config)\n",
    "aml_cluster.wait_for_completion(show_output=True)"
   ]
  },
  {
   "cell_type": "code",
   "execution_count": 25,
   "metadata": {
    "slideshow": {
     "slide_type": "subslide"
    }
   },
   "outputs": [],
   "source": [
    "from azureml.core.environment import Environment\n",
    "from azureml.core.conda_dependencies import CondaDependencies\n",
    "\n",
    "myenv = Environment(name=\"myenv\")\n",
    "\n",
    "# From a pip requirements file\n",
    "myenv = Environment.from_pip_requirements(name = \"myenv\", \n",
    "                                          file_path = \"C:/Users/Utilisateur/Downloads/experiment_folder/requirements.txt\")\n",
    "\n",
    "myenv.docker.enabled = True"
   ]
  },
  {
   "cell_type": "code",
   "execution_count": 26,
   "metadata": {
    "slideshow": {
     "slide_type": "subslide"
    }
   },
   "outputs": [],
   "source": [
    "from azureml.core import Experiment\n",
    "\n",
    "# Create and run an experiment\n",
    "experiment = Experiment(workspace = ws, name = 'training_experiment')"
   ]
  },
  {
   "cell_type": "code",
   "execution_count": 27,
   "metadata": {
    "slideshow": {
     "slide_type": "subslide"
    }
   },
   "outputs": [
    {
     "data": {
      "text/html": [
       "<table style=\"width:100%\"><tr><th>Experiment</th><th>Id</th><th>Type</th><th>Status</th><th>Details Page</th><th>Docs Page</th></tr><tr><td>training_experiment</td><td>training_experiment_1585297243_e49fc2fb</td><td>azureml.scriptrun</td><td>Starting</td><td><a href=\"https://ml.azure.com/experiments/training_experiment/runs/training_experiment_1585297243_e49fc2fb?wsid=/subscriptions/68bdd703-8837-469c-80bd-bfb35f3b886f/resourcegroups/ProjectGroup4/workspaces/veille_workspace\" target=\"_blank\" rel=\"noopener\">Link to Azure Machine Learning studio</a></td><td><a href=\"https://docs.microsoft.com/en-us/python/api/azureml-core/azureml.core.script_run.ScriptRun?view=azure-ml-py\" target=\"_blank\" rel=\"noopener\">Link to Documentation</a></td></tr></table>"
      ],
      "text/plain": [
       "Run(Experiment: training_experiment,\n",
       "Id: training_experiment_1585297243_e49fc2fb,\n",
       "Type: azureml.scriptrun,\n",
       "Status: Starting)"
      ]
     },
     "execution_count": 27,
     "metadata": {},
     "output_type": "execute_result"
    }
   ],
   "source": [
    "from azureml.core import ScriptRunConfig\n",
    "from azureml.core.runconfig import DEFAULT_CPU_IMAGE\n",
    "\n",
    "src = ScriptRunConfig(source_directory='.', script='training.py')\n",
    "\n",
    "# Set compute target to the one created in previous step\n",
    "src.run_config.target = aml_cluster.name\n",
    "\n",
    "# Set environment\n",
    "src.run_config.environment = myenv\n",
    " \n",
    "run = experiment.submit(config=src)\n",
    "run"
   ]
  },
  {
   "cell_type": "markdown",
   "metadata": {
    "slideshow": {
     "slide_type": "slide"
    }
   },
   "source": [
    "## Use an Estimator"
   ]
  },
  {
   "cell_type": "code",
   "execution_count": null,
   "metadata": {
    "slideshow": {
     "slide_type": "subslide"
    }
   },
   "outputs": [],
   "source": [
    "from azureml.core import Experiment\n",
    "from azureml.train.estimator import Estimator\n",
    "\n",
    "estimator = Estimator(source_directory='.',\n",
    "                      entry_script='train.py',\n",
    "                      environment_definition=myenv,\n",
    "                      compute_target=aml_cluster)"
   ]
  },
  {
   "cell_type": "code",
   "execution_count": null,
   "metadata": {
    "slideshow": {
     "slide_type": "subslide"
    }
   },
   "outputs": [],
   "source": [
    "run = experiment.submit(config=estimator)"
   ]
  },
  {
   "cell_type": "code",
   "execution_count": null,
   "metadata": {
    "slideshow": {
     "slide_type": "subslide"
    }
   },
   "outputs": [],
   "source": [
    "run.complete()"
   ]
  },
  {
   "cell_type": "markdown",
   "metadata": {
    "slideshow": {
     "slide_type": "slide"
    }
   },
   "source": [
    "## Local"
   ]
  },
  {
   "cell_type": "code",
   "execution_count": 28,
   "metadata": {
    "slideshow": {
     "slide_type": "subslide"
    }
   },
   "outputs": [
    {
     "name": "stderr",
     "output_type": "stream",
     "text": [
      "C:\\Users\\Utilisateur\\Anaconda3\\lib\\site-packages\\sklearn\\externals\\joblib\\__init__.py:15: DeprecationWarning: sklearn.externals.joblib is deprecated in 0.21 and will be removed in 0.23. Please import this functionality directly from joblib, which can be installed with: pip install joblib. If this warning is raised when loading pickled models, you may need to re-serialize those models with scikit-learn 0.21+.\n",
      "  warnings.warn(msg, category=DeprecationWarning)\n"
     ]
    }
   ],
   "source": [
    "# load diabetes dataset, a well-known small dataset that comes with scikit-learn\n",
    "from sklearn.datasets import load_diabetes\n",
    "from sklearn.linear_model import Ridge\n",
    "from sklearn.metrics import mean_squared_error\n",
    "from sklearn.model_selection import train_test_split\n",
    "from sklearn.externals import joblib"
   ]
  },
  {
   "cell_type": "code",
   "execution_count": 32,
   "metadata": {
    "slideshow": {
     "slide_type": "subslide"
    }
   },
   "outputs": [
    {
     "name": "stdout",
     "output_type": "stream",
     "text": [
      "Mean Squared Error is 3435.8446889270103\n",
      "Mean Squared Error is 3431.970965592588\n",
      "Mean Squared Error is 3424.900315896017\n",
      "Mean Squared Error is 3416.9720007734845\n",
      "Mean Squared Error is 3408.9153122589287\n",
      "Mean Squared Error is 3401.015921934314\n",
      "Mean Squared Error is 3393.3986528075425\n",
      "Mean Squared Error is 3386.1193944543174\n",
      "Mean Squared Error is 3379.2010675133292\n",
      "Mean Squared Error is 3372.649627810032\n"
     ]
    }
   ],
   "source": [
    "X, y = load_diabetes(return_X_y = True)\n",
    "columns = ['age', 'gender', 'bmi', 'bp', 's1', 's2', 's3', 's4', 's5', 's6']\n",
    "X_train, X_test, y_train, y_test = train_test_split(X, y, test_size = 0.2, random_state = 0)\n",
    "data = {\n",
    "   \"train\":{\"X\": X_train, \"y\": y_train},        \n",
    "   \"test\":{\"X\": X_test, \"y\": y_test}\n",
    "\n",
    "}\n",
    "alphas = [0.01,0.02,0.03,0.04,0.05,0.06,0.07,0.08,0.09,0.1]\n",
    "for i in alphas:\n",
    "    reg = Ridge(alpha = i)\n",
    "    reg.fit(data['train']['X'], data['train']['y'])\n",
    "    preds = reg.predict(data['test']['X'])\n",
    "    print('Mean Squared Error is', mean_squared_error(preds, data['test']['y']))\n",
    "    joblib.dump(value = reg, filename = '../outputs/model'+ str(i)+ '.pkl');"
   ]
  },
  {
   "cell_type": "code",
   "execution_count": 33,
   "metadata": {
    "slideshow": {
     "slide_type": "subslide"
    }
   },
   "outputs": [],
   "source": [
    "from azureml.core import Experiment\n",
    "\n",
    "# Get an experiment object from Azure Machine Learning\n",
    "experiment = Experiment(workspace=ws, name=\"train-within-notebook\")\n",
    "\n",
    "# Create a run object in the experiment\n",
    "run =  experiment.start_logging(snapshot_directory=None)"
   ]
  },
  {
   "cell_type": "code",
   "execution_count": 34,
   "metadata": {
    "slideshow": {
     "slide_type": "subslide"
    }
   },
   "outputs": [
    {
     "name": "stdout",
     "output_type": "stream",
     "text": [
      "Mean Squared Error is 3435.8446889270103\n",
      "Mean Squared Error is 3431.970965592588\n",
      "Mean Squared Error is 3424.900315896017\n",
      "Mean Squared Error is 3416.9720007734845\n",
      "Mean Squared Error is 3408.9153122589287\n",
      "Mean Squared Error is 3401.015921934314\n",
      "Mean Squared Error is 3393.3986528075425\n",
      "Mean Squared Error is 3386.1193944543174\n",
      "Mean Squared Error is 3379.2010675133292\n",
      "Mean Squared Error is 3372.649627810032\n"
     ]
    }
   ],
   "source": [
    "# Log the algorithm parameter alpha to the run\n",
    "alphas = [0.01,0.02,0.03,0.04,0.05,0.06,0.07,0.08,0.09,0.1]\n",
    "for i in alphas:\n",
    "    run.log('alpha', i)\n",
    "\n",
    "    # Create, fit, and test the scikit-learn Ridge regression model\n",
    "    regression_model = Ridge(alpha=i)\n",
    "    regression_model.fit(data['train']['X'], data['train']['y'])\n",
    "    preds = regression_model.predict(data['test']['X'])\n",
    "\n",
    "    # Output the Mean Squared Error to the notebook and to the run\n",
    "    print('Mean Squared Error is', mean_squared_error(data['test']['y'], preds))\n",
    "    run.log('mse', mean_squared_error(data['test']['y'], preds))\n",
    "\n",
    "    # Save the model to the outputs directory for capture\n",
    "    model_file_name = 'outputs/model'+ str(i) +'.pkl'\n",
    "\n",
    "    joblib.dump(value = regression_model, filename = model_file_name)\n",
    "\n",
    "    # upload the model file explicitly into artifacts \n",
    "    run.upload_file(name = model_file_name, path_or_stream = model_file_name)\n",
    "\n",
    "    # Complete the run\n",
    "    run.complete()"
   ]
  },
  {
   "cell_type": "code",
   "execution_count": null,
   "metadata": {},
   "outputs": [],
   "source": []
  }
 ],
 "metadata": {
  "celltoolbar": "Diaporama",
  "kernelspec": {
   "display_name": "Python 3",
   "language": "python",
   "name": "python3"
  },
  "language_info": {
   "codemirror_mode": {
    "name": "ipython",
    "version": 3
   },
   "file_extension": ".py",
   "mimetype": "text/x-python",
   "name": "python",
   "nbconvert_exporter": "python",
   "pygments_lexer": "ipython3",
   "version": "3.7.4"
  }
 },
 "nbformat": 4,
 "nbformat_minor": 2
}
